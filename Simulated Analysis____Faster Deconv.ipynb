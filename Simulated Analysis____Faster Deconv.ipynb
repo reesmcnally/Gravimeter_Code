{
 "cells": [
  {
   "cell_type": "code",
   "execution_count": 1,
   "metadata": {},
   "outputs": [],
   "source": [
    "from os import listdir\n",
    "from os.path import isfile, join\n",
    "import numpy as np\n",
    "import matplotlib.pyplot as plt\n",
    "import pandas as pd\n",
    "import seaborn as sns\n",
    "from scipy import signal\n",
    "from scipy import signal\n",
    "#sns.set(style=\"darkgrid\")"
   ]
  },
  {
   "cell_type": "code",
   "execution_count": null,
   "metadata": {},
   "outputs": [],
   "source": [
    "# Code used to optimize the speed of the Time Series Correlation"
   ]
  },
  {
   "cell_type": "code",
   "execution_count": 2,
   "metadata": {},
   "outputs": [],
   "source": [
    "def Noise_Gen(tm,amp):\n",
    "    noise=[]\n",
    "    time=[]\n",
    "    for i in range(tm):\n",
    "        noise.append(np.random.normal(0,amp))\n",
    "        time.append(i)\n",
    "    return np.array(time), np.array(noise)\n",
    "\n",
    "def Sig_Gen(tm,t0,w,amp):\n",
    "    s=[]\n",
    "    t=[]\n",
    "    for i in range(tm):\n",
    "        s.append(((np.sqrt(2*np.exp(1)))/w)*amp*(i-t0)*np.exp(-(i-t0)**2/(w**2)))\n",
    "        t.append(i)\n",
    "    return np.array(t), np.array(s)\n",
    "\n",
    "def TS_Correlations(time,data,kernel):\n",
    "    kernel=0.96787*np.sqrt(2)*kernel/np.sum(np.abs(kernel))\n",
    "    output=[]\n",
    "    tout=[]\n",
    "    for i in range(len(data)):\n",
    "        if i < len(data)-len(kernel):\n",
    "            output.append(np.correlate(data[i:i+len(kernel)],kernel)[0])\n",
    "            tout.append(time[int(i+len(kernel)/2)])\n",
    "            \n",
    "    return(tout,output)"
   ]
  },
  {
   "cell_type": "code",
   "execution_count": 3,
   "metadata": {},
   "outputs": [],
   "source": [
    "tlen=int(2*1e7)\n",
    "swidth=100000\n",
    "t, noise = Noise_Gen(tlen,1)\n",
    "tmask, kernel=Sig_Gen(int(swidth*7),int(swidth*7/2),swidth,1)\n",
    "kernel=0.968*np.sqrt(2)*kernel/np.sum(np.abs(kernel))\n",
    "t, sig = Sig_Gen(tlen,int(tlen/2),swidth,1)\n",
    "data_test=sig+noise"
   ]
  },
  {
   "cell_type": "code",
   "execution_count": 4,
   "metadata": {},
   "outputs": [],
   "source": [
    "def TS_Correlations(time,data,kernel):\n",
    "    output=[]\n",
    "    tout=[]\n",
    "    for i in range(len(data)):\n",
    "        if i < len(data)-len(kernel):\n",
    "            output.append(np.correlate(data[i:i+len(kernel)],kernel)[0])\n",
    "            tout.append(time[int(i+len(kernel)/2)])\n",
    "            \n",
    "    return(tout,output)\n",
    "\n",
    "def TS_Correlations_Fast(time,data,kernel):\n",
    "    output=signal.correlate(data,kernel,mode='same',method='fft')\n",
    "    return(time,output)\n"
   ]
  },
  {
   "cell_type": "code",
   "execution_count": 7,
   "metadata": {},
   "outputs": [
    {
     "name": "stderr",
     "output_type": "stream",
     "text": [
      "C:\\Users\\Rees\\AppData\\Local\\Continuum\\anaconda3\\lib\\site-packages\\scipy\\signal\\signaltools.py:491: FutureWarning: Using a non-tuple sequence for multidimensional indexing is deprecated; use `arr[tuple(seq)]` instead of `arr[seq]`. In the future this will be interpreted as an array index, `arr[np.array(seq)]`, which will result either in an error or a different result.\n",
      "  return x[reverse].conj()\n"
     ]
    },
    {
     "name": "stdout",
     "output_type": "stream",
     "text": [
      " "
     ]
    }
   ],
   "source": [
    "data_test=sig+noise\n",
    "\n",
    "%prun tconv,sigconv=TS_Correlations_Fast(t,data_test,kernel)"
   ]
  },
  {
   "cell_type": "code",
   "execution_count": null,
   "metadata": {},
   "outputs": [],
   "source": []
  },
  {
   "cell_type": "code",
   "execution_count": null,
   "metadata": {},
   "outputs": [],
   "source": []
  },
  {
   "cell_type": "code",
   "execution_count": null,
   "metadata": {},
   "outputs": [],
   "source": []
  },
  {
   "cell_type": "code",
   "execution_count": null,
   "metadata": {},
   "outputs": [],
   "source": []
  },
  {
   "cell_type": "code",
   "execution_count": null,
   "metadata": {},
   "outputs": [],
   "source": []
  },
  {
   "cell_type": "code",
   "execution_count": null,
   "metadata": {},
   "outputs": [],
   "source": []
  },
  {
   "cell_type": "code",
   "execution_count": null,
   "metadata": {},
   "outputs": [],
   "source": []
  }
 ],
 "metadata": {
  "kernelspec": {
   "display_name": "Python 3",
   "language": "python",
   "name": "python3"
  },
  "language_info": {
   "codemirror_mode": {
    "name": "ipython",
    "version": 3
   },
   "file_extension": ".py",
   "mimetype": "text/x-python",
   "name": "python",
   "nbconvert_exporter": "python",
   "pygments_lexer": "ipython3",
   "version": "3.7.0"
  }
 },
 "nbformat": 4,
 "nbformat_minor": 2
}
